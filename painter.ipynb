{
 "cells": [
  {
   "cell_type": "markdown",
   "metadata": {},
   "source": [
    "# Painter Automata\n",
    "\n",
    "This is a painter automata. It follows simple rules and is completely dependent on the intial conditions.\n",
    "\n",
    "The world starts out completely white, with the painter in the middle as if it just took a step \"downwards\".\n",
    "\n",
    "The painter works according to these rules:\n",
    "\n",
    "* It has a palette of n colours, where every colour has a number, k, attributed to it.\n",
    "* When it walks over a square, the colour is changed to k + 1 (mod n).\n",
    "* Every colour is either a left-hand or a right-hand colour, decided by a boolean string.\n",
    "* If it walks over a left-hand colour, it turns left and vice versa.\n",
    "It works for the given number of timesteps or until it has reached the boundaries of the canvas.  \n",
    "\n"
   ]
  },
  {
   "cell_type": "code",
   "execution_count": 270,
   "metadata": {},
   "outputs": [],
   "source": [
    "import numpy as np\n",
    "import matplotlib.pyplot as plt\n",
    "import pandas as pd\n",
    "import math\n",
    "import matplotlib.cm as cm\n",
    "import matplotlib as mpl\n",
    "\n",
    "#Nice Patterns, given a number \"binarily\"\n",
    "#[0, 1, 0, 0, 0, 0, 1] 33\n",
    "#[1, 0, 1, 1, 1, 1, 0] 94\n",
    "#[0, 1, 1, 1, 1, 0, 0] 60\n",
    "#[1, 1, 0, 1, 1, 1, 1] 111\n",
    "#[0, 0, 1, 0, 0, 0, 0] 16\n",
    "#[0, 1, 1, 1, 1, 1, 0] 62"
   ]
  },
  {
   "cell_type": "code",
   "execution_count": 271,
   "metadata": {},
   "outputs": [],
   "source": [
    "rows = 200\n",
    "columns = 200\n",
    "\n",
    "numGraphs = 100\n",
    "timesteps = 50000\n",
    "\n",
    "colors = ['white', 'green', 'blue', 'yellow', 'brown','black', 'red']\n",
    "bounds = [0,1,2,3,4,5,6]"
   ]
  },
  {
   "cell_type": "code",
   "execution_count": 272,
   "metadata": {},
   "outputs": [],
   "source": [
    "def painter(timesteps, boolArr):\n",
    "    paintBoard = np.zeros(shape=(rows, columns), dtype=int)\n",
    "    startPos = math.floor(len(paintBoard)/2)\n",
    "    currX = startPos\n",
    "    currY = startPos\n",
    "\n",
    "    prevX = startPos\n",
    "    prevY = startPos + 1 \n",
    "\n",
    "    countif = 0\n",
    "    countelse = 0\n",
    "    \n",
    "    for step in range(0,timesteps):\n",
    "        \n",
    "        if currX is rows or currX is -1 or currY is columns or currY is -1:\n",
    "            break\n",
    "            \n",
    "        elif boolArr[paintBoard[currX][currY]]:\n",
    "            countif += 1\n",
    "            paintBoard[currX][currY] += 1\n",
    "\n",
    "            if paintBoard[currX][currY] >= len(colors):\n",
    "                paintBoard[currX][currY] = 0\n",
    "\n",
    "            xChange = currX - prevX\n",
    "            yChange = currY - prevY\n",
    "\n",
    "            if xChange is 0:\n",
    "                if yChange > 0:\n",
    "                    prevX = currX\n",
    "                    prevY = currY\n",
    "                    currX = currX + 1\n",
    "\n",
    "                elif yChange < 0:\n",
    "                    prevX = currX\n",
    "                    prevY = currY\n",
    "                    currX = currX -1\n",
    "\n",
    "            elif xChange < 0:\n",
    "                    prevX = currX\n",
    "                    prevY = currY\n",
    "                    currY = currY + 1\n",
    "\n",
    "            elif xChange > 0:\n",
    "                    prevX = currX\n",
    "                    prevY = currY\n",
    "                    currY = currY - 1\n",
    "                    \n",
    "        else:\n",
    "            countelse += 1\n",
    "            paintBoard[currX][currY] += 1\n",
    "\n",
    "            if paintBoard[currX][currY] >= len(colors):\n",
    "                paintBoard[currX][currY] = 0\n",
    "\n",
    "            xChange = currX - prevX\n",
    "            yChange = currY - prevY\n",
    "\n",
    "            if xChange is 0:\n",
    "                if yChange > 0:\n",
    "                    prevX = currX\n",
    "                    prevY = currY\n",
    "                    currX = currX - 1\n",
    "\n",
    "                if yChange < 0:\n",
    "                    prevX = currX\n",
    "                    prevY = currY\n",
    "                    currX = currX + 1\n",
    "\n",
    "            if xChange < 0:\n",
    "                    prevX = currX\n",
    "                    prevY = currY\n",
    "                    currY = currY - 1\n",
    "\n",
    "\n",
    "            if xChange > 0:\n",
    "                    prevX = currX\n",
    "                    prevY = currY\n",
    "                    currY = currY + 1\n",
    "                        \n",
    "    return paintBoard, countif, countelse"
   ]
  },
  {
   "cell_type": "code",
   "execution_count": 273,
   "metadata": {
    "scrolled": false
   },
   "outputs": [
    {
     "name": "stdout",
     "output_type": "stream",
     "text": [
      "[0, 1, 1, 1, 0, 0, 0]\n",
      "Right turns taken: 22695, left turns taken: 27305\n"
     ]
    },
    {
     "data": {
      "image/png": "[encoded data removed]",
      "text/plain": [
       "<Figure size 432x288 with 1 Axes>"
      ]
     },
     "metadata": {
      "needs_background": "light"
     },
     "output_type": "display_data"
    },
    {
     "name": "stdout",
     "output_type": "stream",
     "text": [
      "[1, 1, 1, 1, 1, 0, 1]\n",
      "Right turns taken: 43366, left turns taken: 6634\n"
     ]
    },
    {
     "data": {
      "image/png": "[encoded data removed]",
      "text/plain": [
       "<Figure size 432x288 with 1 Axes>"
      ]
     },
     "metadata": {
      "needs_background": "light"
     },
     "output_type": "display_data"
    },
    {
     "name": "stdout",
     "output_type": "stream",
     "text": [
      "[0, 1, 0, 0, 0, 0, 1]\n",
      "Right turns taken: 12634, left turns taken: 37366\n"
     ]
    },
    {
     "data": {
      "image/png": "[encoded data removed]",
      "text/plain": [
       "<Figure size 432x288 with 1 Axes>"
      ]
     },
     "metadata": {
      "needs_background": "light"
     },
     "output_type": "display_data"
    },
    {
     "name": "stdout",
     "output_type": "stream",
     "text": [
      "[1, 0, 1, 1, 1, 1, 0]\n",
      "Right turns taken: 37366, left turns taken: 12634\n"
     ]
    },
    {
     "data": {
      "image/png": "[encoded data removed]",
      "text/plain": [
       "<Figure size 432x288 with 1 Axes>"
      ]
     },
     "metadata": {
      "needs_background": "light"
     },
     "output_type": "display_data"
    },
    {
     "name": "stdout",
     "output_type": "stream",
     "text": [
      "[0, 1, 1, 1, 1, 0, 0]\n",
      "Right turns taken: 28911, left turns taken: 21089\n"
     ]
    },
    {
     "data": {
      "image/png": "[encoded data removed]",
      "text/plain": [
       "<Figure size 432x288 with 1 Axes>"
      ]
     },
     "metadata": {
      "needs_background": "light"
     },
     "output_type": "display_data"
    },
    {
     "name": "stdout",
     "output_type": "stream",
     "text": [
      "[1, 1, 0, 1, 1, 1, 1]\n",
      "Right turns taken: 41633, left turns taken: 8367\n"
     ]
    },
    {
     "data": {
      "image/png": "[encoded data removed]",
      "text/plain": [
       "<Figure size 432x288 with 1 Axes>"
      ]
     },
     "metadata": {
      "needs_background": "light"
     },
     "output_type": "display_data"
    },
    {
     "name": "stdout",
     "output_type": "stream",
     "text": [
      "[0, 0, 1, 0, 0, 0, 0]\n",
      "Right turns taken: 8367, left turns taken: 41633\n"
     ]
    },
    {
     "data": {
      "image/png": "[encoded data removed]",
      "text/plain": [
       "<Figure size 432x288 with 1 Axes>"
      ]
     },
     "metadata": {
      "needs_background": "light"
     },
     "output_type": "display_data"
    },
    {
     "name": "stdout",
     "output_type": "stream",
     "text": [
      "[0, 1, 1, 1, 1, 1, 0]\n",
      "Right turns taken: 35673, left turns taken: 14327\n"
     ]
    },
    {
     "data": {
      "image/png": "[encoded data removed]",
      "text/plain": [
       "<Figure size 432x288 with 1 Axes>"
      ]
     },
     "metadata": {
      "needs_background": "light"
     },
     "output_type": "display_data"
    }
   ],
   "source": [
    "#Feel free to try out different starting states with ownArr = 1\n",
    "ownArr = 1\n",
    "randArr = 0\n",
    "\n",
    "if ownArr is 1:\n",
    "    boolArr = [[0, 1, 1, 1, 0, 0, 0],\n",
    "               [1, 1, 1, 1, 1, 0, 1],\n",
    "               [0, 1, 0, 0, 0, 0, 1], \n",
    "               [1, 0, 1, 1, 1, 1, 0], \n",
    "               [0, 1, 1, 1, 1, 0, 0], \n",
    "               [1, 1, 0, 1, 1, 1, 1],\n",
    "               [0, 0, 1, 0, 0, 0, 0],\n",
    "               [0, 1, 1, 1, 1, 1, 0]]\n",
    "\n",
    "if randArr is 1:\n",
    "    boolArr = []\n",
    "    for i in range(0, numGraphs):\n",
    "        boolArr.append(np.random.randint(2, size=7))\n",
    "\n",
    "for graph in range(0,len(boolArr)):\n",
    "    \n",
    "    print(boolArr[graph])\n",
    "    \n",
    "    paintBoard, countif, countelse = painter(timesteps, boolArr[graph])\n",
    "    print(\"Right turns taken: %d, left turns taken: %d\" % (countif,countelse))\n",
    "\n",
    "    cmap = mpl.colors.ListedColormap(colors)\n",
    "    norm = mpl.colors.BoundaryNorm(bounds, cmap.N)\n",
    "\n",
    "    #plt.imshow(paintBoard, interpolation='nearest')\n",
    "    #plt.show()\n",
    "    plt.imshow(paintBoard, interpolation='nearest', cmap=cmap, norm=norm)\n",
    "    plt.show()"
   ]
  },
  {
   "cell_type": "code",
   "execution_count": null,
   "metadata": {},
   "outputs": [],
   "source": []
  }
 ],
 "metadata": {
  "kernelspec": {
   "display_name": "Python 3",
   "language": "python",
   "name": "python3"
  },
  "language_info": {
   "codemirror_mode": {
    "name": "ipython",
    "version": 3
   },
   "file_extension": ".py",
   "mimetype": "text/x-python",
   "name": "python",
   "nbconvert_exporter": "python",
   "pygments_lexer": "ipython3",
   "version": "3.7.2"
  }
 },
 "nbformat": 4,
 "nbformat_minor": 2
}
